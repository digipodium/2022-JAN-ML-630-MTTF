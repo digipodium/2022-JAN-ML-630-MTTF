{
  "cells": [
    {
      "cell_type": "markdown",
      "metadata": {
        "id": "8cjRgw6ClHgp"
      },
      "source": [
        "# NLP process \n",
        "- Text analysis  50%\n",
        "- Text Transformation 40%\n",
        "- Model development 5%\n",
        "- ui application 5%"
      ]
    },
    {
      "cell_type": "markdown",
      "metadata": {
        "id": "mlFnM7sJlHgq"
      },
      "source": [
        "# text analysis"
      ]
    },
    {
      "cell_type": "code",
      "execution_count": null,
      "metadata": {
        "colab": {
          "base_uri": "https://localhost:8080/",
          "height": 71
        },
        "id": "IkMwfsuilHgv",
        "outputId": "11f4be06-6235-4734-e96f-823eef9272fa"
      },
      "outputs": [],
      "source": [
        "import numpy as np\n",
        "import pandas as pd\n",
        "import matplotlib.pyplot as plt\n",
        "import seaborn as sns"
      ]
    },
    {
      "cell_type": "code",
      "execution_count": null,
      "metadata": {},
      "outputs": [],
      "source": [
        "print(plt.style.available)"
      ]
    },
    {
      "cell_type": "code",
      "execution_count": null,
      "metadata": {
        "id": "lo6GtOSTlHg0"
      },
      "outputs": [],
      "source": [
        "# plt.style.available    --- use to see available themes\n",
        "plt.style.use('ggplot')"
      ]
    },
    {
      "cell_type": "code",
      "execution_count": null,
      "metadata": {
        "id": "a7bPWeMflHg5"
      },
      "outputs": [],
      "source": [
        "sns.set_style('whitegrid')"
      ]
    },
    {
      "cell_type": "markdown",
      "metadata": {},
      "source": [
        "```\n",
        "pip install nltk\n",
        "```"
      ]
    },
    {
      "cell_type": "code",
      "execution_count": null,
      "metadata": {
        "id": "PAocaKZLlHg9"
      },
      "outputs": [],
      "source": [
        "import nltk"
      ]
    },
    {
      "cell_type": "code",
      "execution_count": 6,
      "metadata": {
        "colab": {
          "base_uri": "https://localhost:8080/",
          "height": 1000
        },
        "id": "4gwgAZrOmq6R",
        "outputId": "9853f470-affd-4ac4-a251-a7d32d83358a"
      },
      "outputs": [
        {
          "name": "stderr",
          "output_type": "stream",
          "text": [
            "[nltk_data]    |   Unzipping corpora\\timit.zip.\n",
            "[nltk_data]    | Downloading package toolbox to\n",
            "[nltk_data]    |     C:\\Users\\Admin\\AppData\\Roaming\\nltk_data...\n",
            "[nltk_data]    |   Unzipping corpora\\toolbox.zip.\n",
            "[nltk_data]    | Downloading package treebank to\n",
            "[nltk_data]    |     C:\\Users\\Admin\\AppData\\Roaming\\nltk_data...\n",
            "[nltk_data]    |   Unzipping corpora\\treebank.zip.\n",
            "[nltk_data]    | Downloading package twitter_samples to\n",
            "[nltk_data]    |     C:\\Users\\Admin\\AppData\\Roaming\\nltk_data...\n",
            "[nltk_data]    |   Unzipping corpora\\twitter_samples.zip.\n",
            "[nltk_data]    | Downloading package udhr to\n",
            "[nltk_data]    |     C:\\Users\\Admin\\AppData\\Roaming\\nltk_data...\n",
            "[nltk_data]    |   Unzipping corpora\\udhr.zip.\n",
            "[nltk_data]    | Downloading package udhr2 to\n",
            "[nltk_data]    |     C:\\Users\\Admin\\AppData\\Roaming\\nltk_data...\n",
            "[nltk_data]    |   Unzipping corpora\\udhr2.zip.\n",
            "[nltk_data]    | Downloading package unicode_samples to\n",
            "[nltk_data]    |     C:\\Users\\Admin\\AppData\\Roaming\\nltk_data...\n",
            "[nltk_data]    |   Unzipping corpora\\unicode_samples.zip.\n",
            "[nltk_data]    | Downloading package universal_tagset to\n",
            "[nltk_data]    |     C:\\Users\\Admin\\AppData\\Roaming\\nltk_data...\n",
            "[nltk_data]    |   Unzipping taggers\\universal_tagset.zip.\n",
            "[nltk_data]    | Downloading package universal_treebanks_v20 to\n",
            "[nltk_data]    |     C:\\Users\\Admin\\AppData\\Roaming\\nltk_data...\n",
            "[nltk_data]    | Downloading package vader_lexicon to\n",
            "[nltk_data]    |     C:\\Users\\Admin\\AppData\\Roaming\\nltk_data...\n",
            "[nltk_data]    | Downloading package verbnet to\n",
            "[nltk_data]    |     C:\\Users\\Admin\\AppData\\Roaming\\nltk_data...\n",
            "[nltk_data]    |   Unzipping corpora\\verbnet.zip.\n",
            "[nltk_data]    | Downloading package verbnet3 to\n",
            "[nltk_data]    |     C:\\Users\\Admin\\AppData\\Roaming\\nltk_data...\n",
            "[nltk_data]    |   Unzipping corpora\\verbnet3.zip.\n",
            "[nltk_data]    | Downloading package webtext to\n",
            "[nltk_data]    |     C:\\Users\\Admin\\AppData\\Roaming\\nltk_data...\n",
            "[nltk_data]    |   Unzipping corpora\\webtext.zip.\n",
            "[nltk_data]    | Downloading package wmt15_eval to\n",
            "[nltk_data]    |     C:\\Users\\Admin\\AppData\\Roaming\\nltk_data...\n",
            "[nltk_data]    |   Unzipping models\\wmt15_eval.zip.\n",
            "[nltk_data]    | Downloading package word2vec_sample to\n",
            "[nltk_data]    |     C:\\Users\\Admin\\AppData\\Roaming\\nltk_data...\n",
            "[nltk_data]    |   Unzipping models\\word2vec_sample.zip.\n",
            "[nltk_data]    | Downloading package wordnet to\n",
            "[nltk_data]    |     C:\\Users\\Admin\\AppData\\Roaming\\nltk_data...\n",
            "[nltk_data]    |   Package wordnet is already up-to-date!\n",
            "[nltk_data]    | Downloading package wordnet2021 to\n",
            "[nltk_data]    |     C:\\Users\\Admin\\AppData\\Roaming\\nltk_data...\n",
            "[nltk_data]    |   Unzipping corpora\\wordnet2021.zip.\n",
            "[nltk_data]    | Downloading package wordnet31 to\n",
            "[nltk_data]    |     C:\\Users\\Admin\\AppData\\Roaming\\nltk_data...\n",
            "[nltk_data]    |   Unzipping corpora\\wordnet31.zip.\n",
            "[nltk_data]    | Downloading package wordnet_ic to\n",
            "[nltk_data]    |     C:\\Users\\Admin\\AppData\\Roaming\\nltk_data...\n",
            "[nltk_data]    |   Unzipping corpora\\wordnet_ic.zip.\n",
            "[nltk_data]    | Downloading package words to\n",
            "[nltk_data]    |     C:\\Users\\Admin\\AppData\\Roaming\\nltk_data...\n",
            "[nltk_data]    |   Unzipping corpora\\words.zip.\n",
            "[nltk_data]    | Downloading package ycoe to\n",
            "[nltk_data]    |     C:\\Users\\Admin\\AppData\\Roaming\\nltk_data...\n",
            "[nltk_data]    |   Unzipping corpora\\ycoe.zip.\n",
            "[nltk_data]    | \n",
            "[nltk_data]  Done downloading collection all\n"
          ]
        },
        {
          "data": {
            "text/plain": [
              "True"
            ]
          },
          "execution_count": 6,
          "metadata": {},
          "output_type": "execute_result"
        }
      ],
      "source": [
        "nltk.download('all')"
      ]
    },
    {
      "cell_type": "code",
      "execution_count": 7,
      "metadata": {
        "id": "zLFHhKHKlHhF"
      },
      "outputs": [],
      "source": [
        "from nltk.corpus import stopwords\n",
        "import string\n",
        "from nltk.tokenize import word_tokenize"
      ]
    },
    {
      "cell_type": "code",
      "execution_count": 11,
      "metadata": {},
      "outputs": [],
      "source": [
        "messages = pd.read_csv('../datasets/spam_ham_dataset.csv',index_col=0)\n",
        "messages.rename({'label':'category'},axis=1,inplace=True)"
      ]
    },
    {
      "cell_type": "code",
      "execution_count": 12,
      "metadata": {
        "colab": {
          "base_uri": "https://localhost:8080/",
          "height": 204
        },
        "id": "Camrd0NqlHhX",
        "outputId": "006c18e7-9af9-45b4-f8b4-c381c8ba6ded"
      },
      "outputs": [
        {
          "data": {
            "text/html": [
              "<div>\n",
              "<style scoped>\n",
              "    .dataframe tbody tr th:only-of-type {\n",
              "        vertical-align: middle;\n",
              "    }\n",
              "\n",
              "    .dataframe tbody tr th {\n",
              "        vertical-align: top;\n",
              "    }\n",
              "\n",
              "    .dataframe thead th {\n",
              "        text-align: right;\n",
              "    }\n",
              "</style>\n",
              "<table border=\"1\" class=\"dataframe\">\n",
              "  <thead>\n",
              "    <tr style=\"text-align: right;\">\n",
              "      <th></th>\n",
              "      <th>category</th>\n",
              "      <th>text</th>\n",
              "      <th>label_num</th>\n",
              "    </tr>\n",
              "  </thead>\n",
              "  <tbody>\n",
              "    <tr>\n",
              "      <th>605</th>\n",
              "      <td>ham</td>\n",
              "      <td>Subject: enron methanol ; meter # : 988291\\r\\n...</td>\n",
              "      <td>0</td>\n",
              "    </tr>\n",
              "    <tr>\n",
              "      <th>2349</th>\n",
              "      <td>ham</td>\n",
              "      <td>Subject: hpl nom for january 9 , 2001\\r\\n( see...</td>\n",
              "      <td>0</td>\n",
              "    </tr>\n",
              "    <tr>\n",
              "      <th>3624</th>\n",
              "      <td>ham</td>\n",
              "      <td>Subject: neon retreat\\r\\nho ho ho , we ' re ar...</td>\n",
              "      <td>0</td>\n",
              "    </tr>\n",
              "    <tr>\n",
              "      <th>4685</th>\n",
              "      <td>spam</td>\n",
              "      <td>Subject: photoshop , windows , office . cheap ...</td>\n",
              "      <td>1</td>\n",
              "    </tr>\n",
              "    <tr>\n",
              "      <th>2030</th>\n",
              "      <td>ham</td>\n",
              "      <td>Subject: re : indian springs\\r\\nthis deal is t...</td>\n",
              "      <td>0</td>\n",
              "    </tr>\n",
              "  </tbody>\n",
              "</table>\n",
              "</div>"
            ],
            "text/plain": [
              "     category                                               text  label_num\n",
              "605       ham  Subject: enron methanol ; meter # : 988291\\r\\n...          0\n",
              "2349      ham  Subject: hpl nom for january 9 , 2001\\r\\n( see...          0\n",
              "3624      ham  Subject: neon retreat\\r\\nho ho ho , we ' re ar...          0\n",
              "4685     spam  Subject: photoshop , windows , office . cheap ...          1\n",
              "2030      ham  Subject: re : indian springs\\r\\nthis deal is t...          0"
            ]
          },
          "execution_count": 12,
          "metadata": {},
          "output_type": "execute_result"
        }
      ],
      "source": [
        "messages.head()"
      ]
    },
    {
      "cell_type": "code",
      "execution_count": 14,
      "metadata": {
        "colab": {
          "base_uri": "https://localhost:8080/",
          "height": 170
        },
        "id": "Mp5UyLBvlHhs",
        "outputId": "7bd4bbe8-50e3-4b4d-e947-c78fb93a1278",
        "tags": []
      },
      "outputs": [
        {
          "name": "stdout",
          "output_type": "stream",
          "text": [
            "<class 'pandas.core.frame.DataFrame'>\n",
            "Int64Index: 5171 entries, 605 to 4807\n",
            "Data columns (total 3 columns):\n",
            " #   Column     Non-Null Count  Dtype \n",
            "---  ------     --------------  ----- \n",
            " 0   category   5171 non-null   object\n",
            " 1   text       5171 non-null   object\n",
            " 2   label_num  5171 non-null   int64 \n",
            "dtypes: int64(1), object(2)\n",
            "memory usage: 161.6+ KB\n"
          ]
        }
      ],
      "source": [
        "messages.info()"
      ]
    },
    {
      "cell_type": "code",
      "execution_count": 15,
      "metadata": {
        "colab": {
          "base_uri": "https://localhost:8080/",
          "height": 68
        },
        "id": "xhfLVVLDlHh2",
        "outputId": "e84f889c-394a-4be8-90da-d6d8817f1ddb"
      },
      "outputs": [
        {
          "data": {
            "text/plain": [
              "ham     3672\n",
              "spam    1499\n",
              "Name: category, dtype: int64"
            ]
          },
          "execution_count": 15,
          "metadata": {},
          "output_type": "execute_result"
        }
      ],
      "source": [
        "messages.category.value_counts()"
      ]
    },
    {
      "cell_type": "code",
      "execution_count": 16,
      "metadata": {
        "colab": {
          "base_uri": "https://localhost:8080/",
          "height": 374
        },
        "id": "EME32nP_lHh8",
        "outputId": "aaba5367-e6db-4a1a-e1f1-a168495aefe9"
      },
      "outputs": [
        {
          "data": {
            "image/png": "[encoded data removed]",
            "text/plain": [
              "<Figure size 432x432 with 1 Axes>"
            ]
          },
          "metadata": {},
          "output_type": "display_data"
        }
      ],
      "source": [
        "messages.category.value_counts().plot(kind='pie',explode=[0,.1],figsize=(6,6),autopct='%.2f%%')\n",
        "plt.title(\"ham vs spam\")\n",
        "plt.legend(['Normal',\"spam\"])\n",
        "plt.show()"
      ]
    },
    {
      "cell_type": "code",
      "execution_count": 17,
      "metadata": {
        "colab": {
          "base_uri": "https://localhost:8080/",
          "height": 475
        },
        "id": "GyFU2LdylHiG",
        "outputId": "409ebcaa-8314-44ec-a177-683181dfbe9f"
      },
      "outputs": [
        {
          "data": {
            "text/html": [
              "<div>\n",
              "<style scoped>\n",
              "    .dataframe tbody tr th:only-of-type {\n",
              "        vertical-align: middle;\n",
              "    }\n",
              "\n",
              "    .dataframe tbody tr th {\n",
              "        vertical-align: top;\n",
              "    }\n",
              "\n",
              "    .dataframe thead th {\n",
              "        text-align: right;\n",
              "    }\n",
              "</style>\n",
              "<table border=\"1\" class=\"dataframe\">\n",
              "  <thead>\n",
              "    <tr style=\"text-align: right;\">\n",
              "      <th></th>\n",
              "      <th>len</th>\n",
              "      <th>amax</th>\n",
              "    </tr>\n",
              "    <tr>\n",
              "      <th>text</th>\n",
              "      <th></th>\n",
              "      <th></th>\n",
              "    </tr>\n",
              "  </thead>\n",
              "  <tbody>\n",
              "    <tr>\n",
              "      <th>Subject: calpine daily gas nomination\\r\\n&gt;\\r\\nricky a . archer\\r\\nfuel supply\\r\\n700 louisiana , suite 2700\\r\\nhouston , texas 77002\\r\\n713 - 830 - 8659 direct\\r\\n713 - 830 - 8722 fax\\r\\n- calpine daily gas nomination 1 . doc</th>\n",
              "      <td>20</td>\n",
              "      <td>ham</td>\n",
              "    </tr>\n",
              "    <tr>\n",
              "      <th>Subject: \\r\\n</th>\n",
              "      <td>16</td>\n",
              "      <td>spam</td>\n",
              "    </tr>\n",
              "    <tr>\n",
              "      <th>Subject: we ' ve found a school for you !\\r\\n</th>\n",
              "      <td>3</td>\n",
              "      <td>spam</td>\n",
              "    </tr>\n",
              "    <tr>\n",
              "      <th>Subject: you can be smart !\\r\\n</th>\n",
              "      <td>3</td>\n",
              "      <td>spam</td>\n",
              "    </tr>\n",
              "    <tr>\n",
              "      <th>Subject: \\r\\nthis week only : f . ree gen . erlc vlag . ra\\r\\ncover the shipping , and we ' ll send youour product at no cost to prove its\\r\\neffectiveness .\\r\\nwon ' t last . . . hurry\\r\\nstop promos .\\r\\n</th>\n",
              "      <td>3</td>\n",
              "      <td>spam</td>\n",
              "    </tr>\n",
              "    <tr>\n",
              "      <th>Subject: hpl nom for march 30 , 2001\\r\\n( see attached file : hplno 330 . xls )\\r\\n- hplno 330 . xls</th>\n",
              "      <td>2</td>\n",
              "      <td>ham</td>\n",
              "    </tr>\n",
              "    <tr>\n",
              "      <th>Subject: hpl nom for march 28 , 2001\\r\\n( see attached file : hplno 328 . xls )\\r\\n- hplno 328 . xls</th>\n",
              "      <td>2</td>\n",
              "      <td>ham</td>\n",
              "    </tr>\n",
              "    <tr>\n",
              "      <th>Subject: tenaska iv - - cleburne march 2001\\r\\nhere is the spreadsheet for march :\\r\\nthanks ,\\r\\nmark</th>\n",
              "      <td>2</td>\n",
              "      <td>ham</td>\n",
              "    </tr>\n",
              "    <tr>\n",
              "      <th>Subject: hpl nom for march 29 , 2001\\r\\n( see attached file : hplno 329 . xls )\\r\\n- hplno 329 . xls</th>\n",
              "      <td>2</td>\n",
              "      <td>ham</td>\n",
              "    </tr>\n",
              "    <tr>\n",
              "      <th>Subject: kleberg plant outages in september - - - - - cornhusker\\r\\ni spoke with michael mazowita / white pine energy , as he said the expected\\r\\noutages are as follows :\\r\\naugust 31 st - september lst 12 hours 12 : 00 pm to 12 : 00 am no flow\\r\\nseptember 25 th - 31 st all days no flow</th>\n",
              "      <td>2</td>\n",
              "      <td>ham</td>\n",
              "    </tr>\n",
              "  </tbody>\n",
              "</table>\n",
              "</div>"
            ],
            "text/plain": [
              "                                                    len  amax\n",
              "text                                                         \n",
              "Subject: calpine daily gas nomination\\r\\n>\\r\\nr...   20   ham\n",
              "Subject: \\r\\n                                        16  spam\n",
              "Subject: we ' ve found a school for you !\\r\\n         3  spam\n",
              "Subject: you can be smart !\\r\\n                       3  spam\n",
              "Subject: \\r\\nthis week only : f . ree gen . erl...    3  spam\n",
              "Subject: hpl nom for march 30 , 2001\\r\\n( see a...    2   ham\n",
              "Subject: hpl nom for march 28 , 2001\\r\\n( see a...    2   ham\n",
              "Subject: tenaska iv - - cleburne march 2001\\r\\n...    2   ham\n",
              "Subject: hpl nom for march 29 , 2001\\r\\n( see a...    2   ham\n",
              "Subject: kleberg plant outages in september - -...    2   ham"
            ]
          },
          "execution_count": 17,
          "metadata": {},
          "output_type": "execute_result"
        }
      ],
      "source": [
        "messages.groupby('text')['category'].agg([len,np.max]).sort_values(by='len',ascending=False).head(10)"
      ]
    },
    {
      "cell_type": "markdown",
      "metadata": {
        "id": "0f0ZsdHLlHiS"
      },
      "source": [
        "individual spam/ham words"
      ]
    },
    {
      "cell_type": "code",
      "execution_count": 19,
      "metadata": {
        "id": "H1c2xZyxlHiU"
      },
      "outputs": [],
      "source": [
        "spam_messages = messages[messages['category']=='spam']['text']\n",
        "ham_messages = messages[messages['category']=='ham']['text']"
      ]
    },
    {
      "cell_type": "code",
      "execution_count": 20,
      "metadata": {
        "id": "xRY6fcsGlHib"
      },
      "outputs": [],
      "source": [
        "spam_words= []\n",
        "ham_words= []"
      ]
    },
    {
      "cell_type": "code",
      "execution_count": 21,
      "metadata": {
        "id": "tvanCEJRlHij"
      },
      "outputs": [],
      "source": [
        "def extract_spam_words(text):\n",
        "    global spam_words\n",
        "    words = [word.lower() for word in word_tokenize(text) if word.lower() not in stopwords.words('english') and word.lower().isalpha()]\n",
        "    spam_words.extend(words)\n",
        "\n",
        "def extract_ham_words(text):\n",
        "    global ham_words\n",
        "    words = [word.lower() for word in word_tokenize(text) if word.lower() not in stopwords.words('english') and word.lower().isalpha()]\n",
        "    ham_words.extend(words)\n"
      ]
    },
    {
      "cell_type": "code",
      "execution_count": 23,
      "metadata": {},
      "outputs": [
        {
          "data": {
            "text/plain": [
              "4685    None\n",
              "4185    None\n",
              "4922    None\n",
              "3799    None\n",
              "3948    None\n",
              "        ... \n",
              "4381    None\n",
              "4979    None\n",
              "4162    None\n",
              "4365    None\n",
              "4807    None\n",
              "Name: text, Length: 1499, dtype: object"
            ]
          },
          "execution_count": 23,
          "metadata": {},
          "output_type": "execute_result"
        }
      ],
      "source": [
        "spam_messages.apply(extract_spam_words)"
      ]
    },
    {
      "cell_type": "code",
      "execution_count": null,
      "metadata": {
        "id": "PD1Fm0vrlHir",
        "tags": []
      },
      "outputs": [],
      "source": [
        "# for word in word_tokenize(\"i just keep yapping, while my students sleep\"):\n",
        "#     if word.lower() not in stopwords.words('english'):\n",
        "#         print(word)"
      ]
    },
    {
      "cell_type": "code",
      "execution_count": null,
      "metadata": {
        "colab": {
          "base_uri": "https://localhost:8080/",
          "height": 54
        },
        "id": "gFhUiCJGlHi6",
        "outputId": "8c93f8cd-c7bc-4e99-a61c-e070742a6177",
        "tags": [
          "outputPrepend"
        ]
      },
      "outputs": [],
      "source": [
        "ham_messages.apply(extract_ham_words)\n",
        "print(ham_words)"
      ]
    },
    {
      "cell_type": "code",
      "execution_count": null,
      "metadata": {
        "colab": {
          "base_uri": "https://localhost:8080/",
          "height": 88
        },
        "id": "IMf1QyzZlHi_",
        "outputId": "5dee4388-b4cf-4600-a57d-992840f9f46b"
      },
      "outputs": [],
      "source": [
        "!pip install wordCloud\n",
        "from wordcloud import WordCloud"
      ]
    },
    {
      "cell_type": "code",
      "execution_count": null,
      "metadata": {
        "colab": {
          "base_uri": "https://localhost:8080/",
          "height": 607
        },
        "id": "0ErAvZxKlHjE",
        "outputId": "17f4a307-cbe2-4538-b96a-4e49cd72d1c1"
      },
      "outputs": [],
      "source": [
        "spam_wordcloud = WordCloud(width=600,height=480).generate(\" \".join(spam_words))\n",
        "plt.figure(figsize=(10,8))\n",
        "plt.imshow(spam_wordcloud)\n",
        "plt.axis('off')\n",
        "plt.tight_layout(pad=0)\n",
        "plt.show()"
      ]
    },
    {
      "cell_type": "code",
      "execution_count": null,
      "metadata": {
        "colab": {
          "base_uri": "https://localhost:8080/",
          "height": 391
        },
        "id": "NGYl8Hk1lHjJ",
        "outputId": "cf4d1621-9461-4cd1-ae0f-19cbe0027045"
      },
      "outputs": [],
      "source": [
        "ham_wordcloud = WordCloud(width=800,height=400).generate(\" \".join(ham_words))\n",
        "plt.figure(figsize=(10,8))\n",
        "plt.imshow(ham_wordcloud)\n",
        "plt.axis('off')\n",
        "plt.tight_layout(pad=0)\n",
        "plt.show()"
      ]
    },
    {
      "cell_type": "code",
      "execution_count": null,
      "metadata": {
        "colab": {
          "base_uri": "https://localhost:8080/",
          "height": 204
        },
        "id": "n3V0rdq1lHjQ",
        "outputId": "85981579-a5bf-4ded-915d-75347cc0e121"
      },
      "outputs": [],
      "source": [
        "spam_words = np.array(spam_words)\n",
        "pd.Series(spam_words).value_counts().head(10)"
      ]
    },
    {
      "cell_type": "code",
      "execution_count": null,
      "metadata": {
        "colab": {
          "base_uri": "https://localhost:8080/",
          "height": 204
        },
        "id": "sk2-Bz0TlHjX",
        "outputId": "4d676ed5-764d-470c-b023-62c0f7d16ba0"
      },
      "outputs": [],
      "source": [
        "ham_words = np.array(ham_words)\n",
        "pd.Series(ham_words).value_counts().head(10)"
      ]
    },
    {
      "cell_type": "code",
      "execution_count": null,
      "metadata": {
        "colab": {
          "base_uri": "https://localhost:8080/",
          "height": 204
        },
        "id": "rDSvHfnhlHjd",
        "outputId": "a0b9681e-8274-4a15-973a-57246dccd602"
      },
      "outputs": [],
      "source": [
        "messages['messageLength'] = messages['text'].apply(len)\n",
        "messages.head()"
      ]
    },
    {
      "cell_type": "code",
      "execution_count": null,
      "metadata": {
        "colab": {
          "base_uri": "https://localhost:8080/",
          "height": 281
        },
        "id": "QDW67Vc5lHji",
        "outputId": "2a24e80e-92dc-411b-8958-5af4ddcedc27"
      },
      "outputs": [],
      "source": [
        "f, ax = plt.subplots(1,2,figsize=(20,6))\n",
        "sns.distplot(messages[messages['category']=='spam']['messageLength'], bins = 20, ax= ax[0])\n",
        "ax[0].set_xlabel('Spam message word length')\n",
        "sns.distplot(messages[messages['category']=='ham']['messageLength'], bins = 20, ax= ax[1])\n",
        "ax[1].set_xlabel('Normal message word length')\n",
        "plt.show()\n"
      ]
    },
    {
      "cell_type": "markdown",
      "metadata": {
        "id": "OKKzjT05lHjn"
      },
      "source": [
        "# Text Transformation"
      ]
    },
    {
      "cell_type": "markdown",
      "metadata": {
        "id": "pa1bn2GulHjo"
      },
      "source": [
        "clean punctuations & stopwords & stemming\n",
        "- stemming example\n",
        "    - playing\n",
        "    - plays\n",
        "    - *play* - this will be called a stem word also called 'lemma'\n",
        "    - playable \n",
        "    - playthrough"
      ]
    },
    {
      "cell_type": "code",
      "execution_count": null,
      "metadata": {
        "id": "nQk46OWglHjo"
      },
      "outputs": [],
      "source": [
        "from nltk.stem import SnowballStemmer"
      ]
    },
    {
      "cell_type": "code",
      "execution_count": null,
      "metadata": {
        "id": "3IcJtR38lHju"
      },
      "outputs": [],
      "source": [
        "stemmer = SnowballStemmer('english')"
      ]
    },
    {
      "cell_type": "code",
      "execution_count": null,
      "metadata": {
        "id": "HKpkp6FSlHj2"
      },
      "outputs": [],
      "source": [
        "def cleanupText(message):\n",
        "    message =  message.translate(str.maketrans('','',string.punctuation)) # remove basic puncutation\n",
        "    words = [stemmer.stem(word) for word in message.split() if word.lower() not in stopwords.words('english')]\n",
        "    return \" \".join(words)"
      ]
    },
    {
      "cell_type": "code",
      "execution_count": null,
      "metadata": {
        "id": "1F51FO8AlHj5"
      },
      "outputs": [],
      "source": [
        "messages.text = messages.text.apply(cleanupText)"
      ]
    },
    {
      "cell_type": "code",
      "execution_count": null,
      "metadata": {
        "colab": {
          "base_uri": "https://localhost:8080/",
          "height": 204
        },
        "id": "U5hkeO3UlHj_",
        "outputId": "33e572db-0f37-46e4-bede-1bce29309ccb"
      },
      "outputs": [],
      "source": [
        "messages.head()"
      ]
    },
    {
      "cell_type": "code",
      "execution_count": null,
      "metadata": {
        "id": "PvniWm4elHkD"
      },
      "outputs": [],
      "source": [
        "from sklearn.feature_extraction.text import TfidfVectorizer"
      ]
    },
    {
      "cell_type": "code",
      "execution_count": null,
      "metadata": {
        "id": "wxprfNg0lHkI"
      },
      "outputs": [],
      "source": [
        "vec = TfidfVectorizer(encoding='latin1',strip_accents='unicode',stop_words=\"english\")\n",
        "features = vec.fit_transform(messages.text)\n",
        "features = features.toarray()"
      ]
    },
    {
      "cell_type": "code",
      "execution_count": null,
      "metadata": {
        "colab": {
          "base_uri": "https://localhost:8080/",
          "height": 34
        },
        "id": "FWLu7HNHuqpq",
        "outputId": "38c9dc93-9943-43e1-f3fe-c7d5b9ec8e89"
      },
      "outputs": [],
      "source": [
        "features.shape"
      ]
    },
    {
      "cell_type": "markdown",
      "metadata": {
        "id": "ZCI6GcNElHkL"
      },
      "source": [
        "# model application"
      ]
    },
    {
      "cell_type": "code",
      "execution_count": null,
      "metadata": {
        "id": "mYWm9yLTlHkM"
      },
      "outputs": [],
      "source": [
        "from sklearn.preprocessing import LabelEncoder\n",
        "from sklearn.model_selection import train_test_split"
      ]
    },
    {
      "cell_type": "code",
      "execution_count": null,
      "metadata": {
        "id": "-FtYnTunlHkS"
      },
      "outputs": [],
      "source": [
        "category_enc = LabelEncoder()\n",
        "messages.category = category_enc.fit_transform(messages.category)"
      ]
    },
    {
      "cell_type": "code",
      "execution_count": null,
      "metadata": {
        "id": "taAGULh1lHkY"
      },
      "outputs": [],
      "source": [
        "xtrain, xtest, ytrain, ytest = train_test_split(features, messages.category, test_size=.2, random_state=0)"
      ]
    },
    {
      "cell_type": "code",
      "execution_count": null,
      "metadata": {
        "id": "7DtGDfBrlHkc"
      },
      "outputs": [],
      "source": [
        "from sklearn.model_selection import cross_val_score\n",
        "from sklearn.metrics import fbeta_score"
      ]
    },
    {
      "cell_type": "code",
      "execution_count": null,
      "metadata": {
        "id": "-X9YlbCklHkj"
      },
      "outputs": [],
      "source": [
        "from sklearn.naive_bayes import GaussianNB, MultinomialNB"
      ]
    },
    {
      "cell_type": "code",
      "execution_count": null,
      "metadata": {
        "id": "f83uZHA0lHky"
      },
      "outputs": [],
      "source": [
        "clf = MultinomialNB()\n",
        "clf.fit(xtrain,ytrain)\n",
        "ypred =  clf.predict(xtest)"
      ]
    },
    {
      "cell_type": "code",
      "execution_count": null,
      "metadata": {
        "id": "2lctvriioLEi"
      },
      "outputs": [],
      "source": [
        "from sklearn.metrics import confusion_matrix"
      ]
    },
    {
      "cell_type": "code",
      "execution_count": null,
      "metadata": {
        "colab": {
          "base_uri": "https://localhost:8080/",
          "height": 51
        },
        "id": "SYYbAbrqoTbB",
        "outputId": "fa1c331f-5c27-43bd-a437-6ee948cf778b"
      },
      "outputs": [],
      "source": [
        "confusion_matrix(ytest,ypred)"
      ]
    },
    {
      "cell_type": "code",
      "execution_count": null,
      "metadata": {
        "colab": {
          "base_uri": "https://localhost:8080/",
          "height": 34
        },
        "id": "KsT0PojlocFJ",
        "outputId": "c594b79f-265b-4e12-eb50-1222047cfd7c"
      },
      "outputs": [],
      "source": [
        "clf.score(xtest,ytest)"
      ]
    },
    {
      "cell_type": "code",
      "execution_count": null,
      "metadata": {
        "colab": {
          "base_uri": "https://localhost:8080/",
          "height": 34
        },
        "id": "E0yr4bealHk7",
        "outputId": "3d996493-3a0d-48ac-eaee-0b29fae08fc9"
      },
      "outputs": [],
      "source": [
        "fbeta_score(ytest,ypred,beta=1)"
      ]
    },
    {
      "cell_type": "code",
      "execution_count": null,
      "metadata": {
        "id": "h2eY7p6slHlC"
      },
      "outputs": [],
      "source": [
        "import pickle"
      ]
    },
    {
      "cell_type": "code",
      "execution_count": null,
      "metadata": {
        "id": "PlsdVAVglHlJ"
      },
      "outputs": [],
      "source": [
        "def save_model(model, path=\"clf.pk\"):\n",
        "    with open(path,'wb') as file:\n",
        "        pickle.dump(model, file)\n",
        "    print(\"success\")"
      ]
    },
    {
      "cell_type": "code",
      "execution_count": null,
      "metadata": {
        "colab": {
          "base_uri": "https://localhost:8080/",
          "height": 34
        },
        "id": "S_9wupIplHlP",
        "outputId": "0a0bf0aa-30c1-4e41-a758-934f30381dc0"
      },
      "outputs": [],
      "source": [
        "save_model(clf)"
      ]
    },
    {
      "cell_type": "code",
      "execution_count": null,
      "metadata": {
        "colab": {
          "base_uri": "https://localhost:8080/",
          "height": 34
        },
        "id": "bNtURqOkuwIb",
        "outputId": "33420ace-ddb2-453b-9d38-b7b01541c65e"
      },
      "outputs": [],
      "source": [
        "save_model(vec, 'tfidfvec.pk')"
      ]
    },
    {
      "cell_type": "code",
      "execution_count": null,
      "metadata": {
        "colab": {
          "base_uri": "https://localhost:8080/",
          "height": 122
        },
        "id": "NdbGfC2inql_",
        "outputId": "bc69f657-fce1-49ed-f7f1-c46eaa2f4700"
      },
      "outputs": [],
      "source": [
        "!pip install --upgrade scikit-learn "
      ]
    },
    {
      "cell_type": "code",
      "execution_count": null,
      "metadata": {
        "id": "GgUQJc_6pHA7"
      },
      "outputs": [],
      "source": []
    }
  ],
  "metadata": {
    "colab": {
      "name": "spam_ham_classification.ipynb",
      "provenance": []
    },
    "interpreter": {
      "hash": "25d61629bec000cc03289752b02dcba135edb76a863a22362471406107f610cf"
    },
    "kernelspec": {
      "display_name": "Python 3.7.4 64-bit ('base': conda)",
      "language": "python",
      "name": "python3"
    },
    "language_info": {
      "codemirror_mode": {
        "name": "ipython",
        "version": 3
      },
      "file_extension": ".py",
      "mimetype": "text/x-python",
      "name": "python",
      "nbconvert_exporter": "python",
      "pygments_lexer": "ipython3",
      "version": "3.9.7"
    },
    "orig_nbformat": 2
  },
  "nbformat": 4,
  "nbformat_minor": 0
}
