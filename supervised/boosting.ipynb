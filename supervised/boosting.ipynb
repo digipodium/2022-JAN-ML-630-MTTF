{
 "cells": [
  {
   "cell_type": "code",
   "execution_count": null,
   "metadata": {},
   "outputs": [],
   "source": [
    "import pandas as pd\n",
    "import numpy as np\n",
    "import plotly.express as px"
   ]
  },
  {
   "cell_type": "code",
   "execution_count": null,
   "metadata": {},
   "outputs": [],
   "source": [
    "pd.set_option('display.max_columns', None)"
   ]
  },
  {
   "cell_type": "code",
   "execution_count": null,
   "metadata": {},
   "outputs": [],
   "source": [
    "df = pd.read_csv('https://raw.githubusercontent.com/digipodium/Datasets/main/kc_house_data.csv')\n",
    "df.head()"
   ]
  },
  {
   "cell_type": "code",
   "execution_count": null,
   "metadata": {},
   "outputs": [],
   "source": [
    "print(df.columns.tolist())"
   ]
  },
  {
   "cell_type": "code",
   "execution_count": null,
   "metadata": {},
   "outputs": [],
   "source": [
    "df.drop(['id', 'date', 'zipcode'], axis=1, inplace=True)\n",
    "df.head()"
   ]
  },
  {
   "cell_type": "code",
   "execution_count": null,
   "metadata": {},
   "outputs": [],
   "source": [
    "df.corrwith(df['price']).plot.bar(figsize=(10,5), title='Correlation with price')"
   ]
  },
  {
   "cell_type": "code",
   "execution_count": null,
   "metadata": {},
   "outputs": [],
   "source": [
    "X = df[['bathrooms','sqft_living']]\n",
    "y  = df['price']    \n"
   ]
  },
  {
   "cell_type": "code",
   "execution_count": null,
   "metadata": {},
   "outputs": [],
   "source": [
    "import xgboost as xgb"
   ]
  },
  {
   "cell_type": "code",
   "execution_count": null,
   "metadata": {},
   "outputs": [],
   "source": [
    "data_matrix = xgb.DMatrix(X,y)"
   ]
  },
  {
   "cell_type": "code",
   "execution_count": null,
   "metadata": {},
   "outputs": [],
   "source": [
    "params = {\n",
    "    'learning_rate' : .01,\n",
    "    'max_depth' : 15,\n",
    "    'alpha' : 10,\n",
    "}\n",
    "\n",
    "results = xgb.cv(\n",
    "    params,\n",
    "    data_matrix,\n",
    "    num_boost_round=500,\n",
    "    early_stopping_rounds=5,\n",
    "    metrics='rmse',\n",
    ")\n",
    "results['test-rmse-mean'].plot()"
   ]
  },
  {
   "cell_type": "markdown",
   "metadata": {},
   "source": [
    "grid search"
   ]
  },
  {
   "cell_type": "code",
   "execution_count": 44,
   "metadata": {},
   "outputs": [
    {
     "name": "stdout",
     "output_type": "stream",
     "text": [
      "Current best params: (5, 0.01, 0)\n",
      "Current best params: (5, 0.01, 5)\n",
      "Current best params: (5, 0.01, 10)\n",
      "Current best params: (5, 0.01, 10)\n",
      "Current best params: (5, 0.01, 10)\n",
      "Current best params: (5, 0.01, 10)\n",
      "Current best params: (5, 0.01, 10)\n",
      "Current best params: (5, 0.01, 10)\n",
      "Current best params: (5, 0.01, 10)\n",
      "Current best params: (5, 0.01, 10)\n",
      "Current best params: (5, 0.01, 10)\n",
      "Current best params: (5, 0.01, 10)\n",
      "Current best params: (5, 0.01, 10)\n",
      "Current best params: (5, 0.01, 10)\n",
      "Current best params: (5, 0.01, 10)\n",
      "Current best params: (5, 0.01, 10)\n",
      "Current best params: (5, 0.01, 10)\n",
      "Current best params: (5, 0.01, 10)\n",
      "Current best params: (5, 0.01, 10)\n",
      "Current best params: (5, 0.01, 10)\n",
      "Current best params: (5, 0.01, 10)\n",
      "Current best params: (5, 0.01, 10)\n",
      "Current best params: (5, 0.01, 10)\n",
      "Current best params: (5, 0.01, 10)\n",
      "Current best params: (5, 0.01, 10)\n",
      "Current best params: (5, 0.01, 10)\n",
      "Current best params: (5, 0.01, 10)\n",
      "Current best params: (5, 0.01, 10)\n",
      "Current best params: (5, 0.01, 10)\n",
      "Current best params: (5, 0.01, 10)\n",
      "Current best params: (5, 0.01, 10)\n"
     ]
    }
   ],
   "source": [
    "grid_params = [\n",
    "    (max_depth, learning_rate, alpha)\n",
    "    for max_depth in range(5,20,5)\n",
    "    for learning_rate in [.01,.1,.5]\n",
    "    for alpha in range(0,50,5)\n",
    "]\n",
    "\n",
    "min_rmse = float('inf')\n",
    "best_params = None\n",
    "\n",
    "for max_depth,learning_rate,alpha in grid_params:\n",
    "    params = {\n",
    "        'max_depth' : max_depth,\n",
    "        'learning_rate' : learning_rate,\n",
    "        'alpha' : alpha,\n",
    "    }\n",
    "    results = xgb.cv(\n",
    "        params,\n",
    "        data_matrix,\n",
    "        num_boost_round=500,\n",
    "        early_stopping_rounds=5,\n",
    "        metrics='rmse',\n",
    "    )\n",
    "    current_rmse = results['test-rmse-mean'].min()\n",
    "    if current_rmse < min_rmse:\n",
    "        min_rmse = current_rmse\n",
    "        best_params = (max_depth,learning_rate,alpha)\n",
    "    print(f'Current best params: {best_params}')"
   ]
  },
  {
   "cell_type": "code",
   "execution_count": null,
   "metadata": {},
   "outputs": [],
   "source": []
  }
 ],
 "metadata": {
  "interpreter": {
   "hash": "25d61629bec000cc03289752b02dcba135edb76a863a22362471406107f610cf"
  },
  "kernelspec": {
   "display_name": "Python 3.9.7 ('env2')",
   "language": "python",
   "name": "python3"
  },
  "language_info": {
   "codemirror_mode": {
    "name": "ipython",
    "version": 3
   },
   "file_extension": ".py",
   "mimetype": "text/x-python",
   "name": "python",
   "nbconvert_exporter": "python",
   "pygments_lexer": "ipython3",
   "version": "3.9.7"
  },
  "orig_nbformat": 4
 },
 "nbformat": 4,
 "nbformat_minor": 2
}
