{
 "cells": [
  {
   "cell_type": "code",
   "execution_count": null,
   "metadata": {},
   "outputs": [],
   "source": [
    "import pandas as pd\n",
    "import matplotlib.pyplot as plt\n",
    "import numpy as np"
   ]
  },
  {
   "cell_type": "code",
   "execution_count": null,
   "metadata": {},
   "outputs": [],
   "source": [
    "y = np.arange(1,10,.5)\n",
    "y2 = y  ** 2\n",
    "y3 = y  ** 3"
   ]
  },
  {
   "cell_type": "code",
   "execution_count": null,
   "metadata": {},
   "outputs": [],
   "source": [
    "plt.plot(y)\n",
    "plt.plot(y2)\n",
    "plt.plot(y3)"
   ]
  },
  {
   "cell_type": "code",
   "execution_count": null,
   "metadata": {},
   "outputs": [],
   "source": [
    "df = pd.read_csv('https://raw.githubusercontent.com/digipodium/Datasets/main/Position_Salaries.csv')\n",
    "df"
   ]
  },
  {
   "cell_type": "code",
   "execution_count": null,
   "metadata": {},
   "outputs": [],
   "source": [
    "df.plot(kind='scatter',x='Level',y='Salary')\n",
    "plt.show()"
   ]
  },
  {
   "cell_type": "code",
   "execution_count": null,
   "metadata": {},
   "outputs": [],
   "source": [
    "from sklearn.preprocessing import PolynomialFeatures\n",
    "from sklearn.metrics import mean_absolute_error\n",
    "from sklearn.linear_model import LinearRegression"
   ]
  },
  {
   "cell_type": "code",
   "execution_count": null,
   "metadata": {},
   "outputs": [],
   "source": [
    "X = df[['Level']]\n",
    "y = df['Salary']"
   ]
  },
  {
   "cell_type": "code",
   "execution_count": null,
   "metadata": {},
   "outputs": [],
   "source": [
    "model_1 = LinearRegression()\n",
    "model_1.fit(X,y)"
   ]
  },
  {
   "cell_type": "code",
   "execution_count": null,
   "metadata": {},
   "outputs": [],
   "source": [
    "df['pred_1']= model_1.predict(X)"
   ]
  },
  {
   "cell_type": "code",
   "execution_count": null,
   "metadata": {},
   "outputs": [],
   "source": [
    "ax= df.plot(kind='scatter',x='Level',y='Salary')\n",
    "df.plot(x='Level',y='pred_1',color='red',ax=ax)\n",
    "plt.show()"
   ]
  },
  {
   "cell_type": "code",
   "execution_count": null,
   "metadata": {},
   "outputs": [],
   "source": [
    "pf = PolynomialFeatures(degree=2)\n",
    "pX2 = pf.fit_transform(X)\n",
    "model_2 = LinearRegression()\n",
    "model_2.fit(pX2,y)\n",
    "df['pred_2']= model_2.predict(pf.transform(X))\n",
    "ax= df.plot(kind='scatter',x='Level',y='Salary')\n",
    "df.plot(x='Level',y='pred_2',color='red',ax=ax)\n",
    "print('score',model_2.score(pf.transform(X),y))\n",
    "plt.show()"
   ]
  },
  {
   "cell_type": "code",
   "execution_count": null,
   "metadata": {},
   "outputs": [],
   "source": [
    "def check_polynomial_regression(X,y,degree):\n",
    "    pf = PolynomialFeatures(degree)\n",
    "    pX = pf.fit_transform(X)\n",
    "    model = LinearRegression()\n",
    "    model.fit(pX,y)\n",
    "    \n",
    "    df[f'pred_{degree}']= model.predict(pf.transform(X))\n",
    "    ax= df.plot(kind='scatter',x='Level',y='Salary')\n",
    "    df.plot(x='Level',y=f'pred_{degree}',color='red',ax=ax)\n",
    "\n",
    "    mae = mean_absolute_error(y,df[f'pred_{degree}'])\n",
    "    print('degree',degree,',score',model.score(pf.transform(X),y),', mae=>',mae)\n",
    "    plt.show()"
   ]
  },
  {
   "cell_type": "code",
   "execution_count": null,
   "metadata": {},
   "outputs": [],
   "source": [
    "for i in range(2,15):\n",
    "    check_polynomial_regression(X,y,i)"
   ]
  },
  {
   "cell_type": "code",
   "execution_count": null,
   "metadata": {},
   "outputs": [],
   "source": [
    "# final model in this example\n",
    "p = PolynomialFeatures(degree=8)\n",
    "m = LinearRegression()\n",
    "px = p.fit_transform(X)\n",
    "m.fit(px,y)\n"
   ]
  },
  {
   "cell_type": "code",
   "execution_count": null,
   "metadata": {},
   "outputs": [],
   "source": [
    "df"
   ]
  },
  {
   "cell_type": "markdown",
   "metadata": {},
   "source": [
    "### example 2"
   ]
  },
  {
   "cell_type": "code",
   "execution_count": null,
   "metadata": {},
   "outputs": [],
   "source": [
    "df = pd.read_csv(\"processed_automobile.csv\")\n",
    "df.head()"
   ]
  },
  {
   "cell_type": "code",
   "execution_count": null,
   "metadata": {},
   "outputs": [],
   "source": [
    "print(df.columns.tolist())"
   ]
  },
  {
   "cell_type": "code",
   "execution_count": null,
   "metadata": {},
   "outputs": [],
   "source": [
    "df.sort_values(by='horsepower',inplace=True)\n",
    "X = df[['horsepower']]\n",
    "y = df['price']"
   ]
  },
  {
   "cell_type": "code",
   "execution_count": null,
   "metadata": {},
   "outputs": [],
   "source": [
    "df.plot(kind='scatter',x='horsepower',y='price')"
   ]
  },
  {
   "cell_type": "code",
   "execution_count": null,
   "metadata": {},
   "outputs": [],
   "source": [
    "degree= 3\n",
    "pf = PolynomialFeatures(degree)\n",
    "pX = pf.fit_transform(X)\n",
    "model = LinearRegression()\n",
    "model.fit(pX,y)\n",
    "\n",
    "df[f'pred_{degree}']= model.predict(pf.transform(X))\n",
    "ax= df.plot(kind='scatter',x='horsepower',y='price')\n",
    "df.plot(x='horsepower',y=f'pred_{degree}',color='red',ax=ax)\n",
    "\n",
    "mae = mean_absolute_error(y,df[f'pred_{degree}'])\n",
    "print('degree',degree,',score',model.score(pf.transform(X),y),', mae=>',mae)\n",
    "plt.show()"
   ]
  },
  {
   "cell_type": "code",
   "execution_count": null,
   "metadata": {},
   "outputs": [],
   "source": []
  }
 ],
 "metadata": {
  "interpreter": {
   "hash": "25d61629bec000cc03289752b02dcba135edb76a863a22362471406107f610cf"
  },
  "kernelspec": {
   "display_name": "Python 3.9.7 ('env2')",
   "language": "python",
   "name": "python3"
  },
  "language_info": {
   "codemirror_mode": {
    "name": "ipython",
    "version": 3
   },
   "file_extension": ".py",
   "mimetype": "text/x-python",
   "name": "python",
   "nbconvert_exporter": "python",
   "pygments_lexer": "ipython3",
   "version": "3.9.7"
  },
  "orig_nbformat": 4
 },
 "nbformat": 4,
 "nbformat_minor": 2
}
